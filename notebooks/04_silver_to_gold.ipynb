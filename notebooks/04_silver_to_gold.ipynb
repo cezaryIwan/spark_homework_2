{
 "cells": [
  {
   "cell_type": "markdown",
   "metadata": {
    "application/vnd.databricks.v1+cell": {
     "cellMetadata": {
      "byteLimit": 2048000,
      "rowLimit": 10000
     },
     "inputWidgets": {},
     "nuid": "17ccd78f-5efd-4c67-99c7-10d199efebae",
     "showTitle": false,
     "tableResultSettingsMap": {},
     "title": ""
    }
   },
   "source": [
    "#Read data"
   ]
  },
  {
   "cell_type": "code",
   "execution_count": 0,
   "metadata": {
    "application/vnd.databricks.v1+cell": {
     "cellMetadata": {
      "byteLimit": 2048000,
      "rowLimit": 10000
     },
     "collapsed": true,
     "inputWidgets": {},
     "nuid": "7f7744eb-db4c-4767-8e6e-def6475bce55",
     "showTitle": false,
     "tableResultSettingsMap": {},
     "title": ""
    }
   },
   "outputs": [],
   "source": [
    "expedia_df = spark.read.format(\"delta\").table(\"silver.expedia_processed\")\n",
    "hotel_weather_df = spark.read.format(\"delta\").table(\"silver.hotel_weather_processed\")"
   ]
  },
  {
   "cell_type": "markdown",
   "metadata": {
    "application/vnd.databricks.v1+cell": {
     "cellMetadata": {
      "byteLimit": 2048000,
      "rowLimit": 10000
     },
     "inputWidgets": {},
     "nuid": "b03482b2-6b27-4996-865b-95d5749b2c50",
     "showTitle": false,
     "tableResultSettingsMap": {},
     "title": ""
    }
   },
   "source": [
    "#Decrtypt PII fields"
   ]
  },
  {
   "cell_type": "code",
   "execution_count": 0,
   "metadata": {
    "application/vnd.databricks.v1+cell": {
     "cellMetadata": {
      "byteLimit": 2048000,
      "rowLimit": 10000
     },
     "inputWidgets": {},
     "nuid": "ae70456a-e4ca-477f-95b2-ae87e8779469",
     "showTitle": false,
     "tableResultSettingsMap": {},
     "title": ""
    }
   },
   "outputs": [],
   "source": [
    "%run \"../utils/configuration\""
   ]
  },
  {
   "cell_type": "code",
   "execution_count": 0,
   "metadata": {
    "application/vnd.databricks.v1+cell": {
     "cellMetadata": {
      "byteLimit": 2048000,
      "rowLimit": 10000
     },
     "inputWidgets": {},
     "nuid": "1fc9efd0-d185-4cb3-bef5-7a5fdd24e831",
     "showTitle": false,
     "tableResultSettingsMap": {},
     "title": ""
    }
   },
   "outputs": [],
   "source": [
    "%run \"../utils/encryption_helper\""
   ]
  },
  {
   "cell_type": "code",
   "execution_count": 0,
   "metadata": {
    "application/vnd.databricks.v1+cell": {
     "cellMetadata": {
      "byteLimit": 2048000,
      "rowLimit": 10000
     },
     "collapsed": true,
     "inputWidgets": {},
     "nuid": "4d8b69ae-99fc-45f3-ab1f-e43075ad1c42",
     "showTitle": false,
     "tableResultSettingsMap": {},
     "title": ""
    }
   },
   "outputs": [],
   "source": [
    "encryption_helper = EncryptionHelper(dbutils)\n",
    "try:\n",
    "    expedia_df = encryption_helper.decrypt_dataframe(expedia_df, common_pii_fields.get(\"expedia\"))\n",
    "    hotel_weather_df = encryption_helper.decrypt_dataframe(hotel_weather_df, common_pii_fields.get(\"hotel_weather\"))    \n",
    "except Exception as e:\n",
    "    print(f'Error during decryption of processed data: {e}')\n",
    "    raise"
   ]
  },
  {
   "cell_type": "markdown",
   "metadata": {
    "application/vnd.databricks.v1+cell": {
     "cellMetadata": {
      "byteLimit": 2048000,
      "rowLimit": 10000
     },
     "inputWidgets": {},
     "nuid": "78abc4a4-3267-480d-b13f-38a34f88fd2b",
     "showTitle": false,
     "tableResultSettingsMap": {},
     "title": ""
    }
   },
   "source": [
    "#Get Top 10 Hotels with Maximum Absolute Temperature Difference by Month"
   ]
  },
  {
   "cell_type": "markdown",
   "metadata": {
    "application/vnd.databricks.v1+cell": {
     "cellMetadata": {
      "byteLimit": 2048000,
      "rowLimit": 10000
     },
     "inputWidgets": {},
     "nuid": "ba122080-2a6f-488a-aaa1-788c0c7307a7",
     "showTitle": false,
     "tableResultSettingsMap": {},
     "title": ""
    }
   },
   "source": [
    "Get _`monthly_temp_diff`_ -> highest temperature difference for every hotel in every month"
   ]
  },
  {
   "cell_type": "code",
   "execution_count": 0,
   "metadata": {
    "application/vnd.databricks.v1+cell": {
     "cellMetadata": {
      "byteLimit": 2048000,
      "implicitDf": true,
      "rowLimit": 10000
     },
     "inputWidgets": {},
     "nuid": "3d3dbd6d-0e01-4ef6-a238-fa30cbdee507",
     "showTitle": false,
     "tableResultSettingsMap": {},
     "title": ""
    }
   },
   "outputs": [],
   "source": [
    "%sql\n",
    "CREATE OR REPLACE TEMPORARY VIEW monthly_temp_diff AS\n",
    "SELECT\n",
    "  id AS hotel_id,\n",
    "  MONTH(wthr_date) AS month,\n",
    "  MAX(avg_tmpr_c) - MIN(avg_tmpr_c) AS temp_diff\n",
    "FROM silver.hotel_weather_processed\n",
    "GROUP BY\n",
    "  id,\n",
    "  MONTH(wthr_date);\n",
    "CACHE TABLE monthly_temp_diff;"
   ]
  },
  {
   "cell_type": "markdown",
   "metadata": {
    "application/vnd.databricks.v1+cell": {
     "cellMetadata": {
      "byteLimit": 2048000,
      "rowLimit": 10000
     },
     "inputWidgets": {},
     "nuid": "3d2cf4bc-39dc-4b49-bc00-1e8ecaee6e0a",
     "showTitle": false,
     "tableResultSettingsMap": {},
     "title": ""
    }
   },
   "source": [
    "Get top 10 hotels with highest temp difference for every month"
   ]
  },
  {
   "cell_type": "code",
   "execution_count": 0,
   "metadata": {
    "application/vnd.databricks.v1+cell": {
     "cellMetadata": {
      "byteLimit": 2048000,
      "implicitDf": true,
      "rowLimit": 10000
     },
     "inputWidgets": {},
     "nuid": "8d01de3d-ce78-4669-b093-c39cede21603",
     "showTitle": false,
     "tableResultSettingsMap": {},
     "title": ""
    }
   },
   "outputs": [],
   "source": [
    "%sql\n",
    "CREATE OR REPLACE TABLE gold.top_10_temp_diff_monthly \n",
    "USING DELTA\n",
    "AS\n",
    "SELECT\n",
    "  hotel_id,\n",
    "  month,\n",
    "  ABS(temp_diff) AS temp_diff\n",
    "FROM (\n",
    "  SELECT\n",
    "    hotel_id,\n",
    "    month,\n",
    "    temp_diff,\n",
    "    ROW_NUMBER() OVER (PARTITION BY month ORDER BY ABS(temp_diff) DESC) AS rn\n",
    "  FROM monthly_temp_diff\n",
    ")\n",
    "WHERE rn <= 10\n",
    "ORDER BY\n",
    "  month ASC,\n",
    "  ABS(temp_diff) DESC;"
   ]
  },
  {
   "cell_type": "markdown",
   "metadata": {
    "application/vnd.databricks.v1+cell": {
     "cellMetadata": {
      "byteLimit": 2048000,
      "rowLimit": 10000
     },
     "inputWidgets": {},
     "nuid": "0b6470ba-b768-4243-9926-907aeca8cc7a",
     "showTitle": false,
     "tableResultSettingsMap": {},
     "title": ""
    }
   },
   "source": [
    "#Get Top 10 Most Visited Hotels per Month \n",
    " Where a \"visit\" is considered on day spent at hotel, not presense in given month - e.g. visit from 25.04 to 02.05, will be count as 6 visits in April and 2 in May, not 1 visit for both. This should be a more precise approach"
   ]
  },
  {
   "cell_type": "markdown",
   "metadata": {
    "application/vnd.databricks.v1+cell": {
     "cellMetadata": {
      "byteLimit": 2048000,
      "rowLimit": 10000
     },
     "inputWidgets": {},
     "nuid": "26ffe7d0-7665-40db-88fd-f9b2f6950a7d",
     "showTitle": false,
     "tableResultSettingsMap": {},
     "title": ""
    }
   },
   "source": [
    "Get _`date_series`_ -> singular dates for every day of visit + filtering"
   ]
  },
  {
   "cell_type": "code",
   "execution_count": 0,
   "metadata": {
    "application/vnd.databricks.v1+cell": {
     "cellMetadata": {
      "byteLimit": 2048000,
      "implicitDf": true,
      "rowLimit": 10000
     },
     "inputWidgets": {},
     "nuid": "9698606c-7840-4d24-88f5-f2647031c8cb",
     "showTitle": false,
     "tableResultSettingsMap": {},
     "title": ""
    }
   },
   "outputs": [],
   "source": [
    "%sql\n",
    "CREATE OR REPLACE TEMPORARY VIEW date_series AS\n",
    "SELECT\n",
    "  hotel_id,\n",
    "  EXPLODE(\n",
    "    SEQUENCE(\n",
    "      srch_ci,\n",
    "      srch_co,\n",
    "      INTERVAL 1 DAY\n",
    "    )\n",
    "  ) AS visit_date\n",
    "FROM silver.expedia_processed\n",
    "WHERE srch_ci <= srch_co;\n",
    "CACHE TABLE date_series;"
   ]
  },
  {
   "cell_type": "markdown",
   "metadata": {
    "application/vnd.databricks.v1+cell": {
     "cellMetadata": {
      "byteLimit": 2048000,
      "rowLimit": 10000
     },
     "inputWidgets": {},
     "nuid": "62b34b8d-b2f0-4fc2-bb71-9f7645b356fb",
     "showTitle": false,
     "tableResultSettingsMap": {},
     "title": ""
    }
   },
   "source": [
    "Get _`monthly_visits`_ -> group visit days by hotel and month and count them"
   ]
  },
  {
   "cell_type": "code",
   "execution_count": 0,
   "metadata": {
    "application/vnd.databricks.v1+cell": {
     "cellMetadata": {
      "byteLimit": 2048000,
      "implicitDf": true,
      "rowLimit": 10000
     },
     "inputWidgets": {},
     "nuid": "63db9025-e9cd-4f1e-a4c0-22f5c385d283",
     "showTitle": false,
     "tableResultSettingsMap": {},
     "title": ""
    }
   },
   "outputs": [],
   "source": [
    "%sql\n",
    "CREATE OR REPLACE TEMPORARY VIEW monthly_visits AS\n",
    "SELECT\n",
    "  hotel_id,\n",
    "  MONTH(visit_date) AS visit_month,\n",
    "  COUNT(*) AS monthly_count\n",
    "FROM date_series\n",
    "GROUP BY\n",
    "  hotel_id,\n",
    "  visit_month;\n",
    "CACHE TABLE monthly_visits;"
   ]
  },
  {
   "cell_type": "markdown",
   "metadata": {
    "application/vnd.databricks.v1+cell": {
     "cellMetadata": {
      "byteLimit": 2048000,
      "rowLimit": 10000
     },
     "inputWidgets": {},
     "nuid": "c793b9be-e643-4304-a761-c473cb3ed7fe",
     "showTitle": false,
     "tableResultSettingsMap": {},
     "title": ""
    }
   },
   "source": [
    "Get top 10 hotels for every month"
   ]
  },
  {
   "cell_type": "code",
   "execution_count": 0,
   "metadata": {
    "application/vnd.databricks.v1+cell": {
     "cellMetadata": {
      "byteLimit": 2048000,
      "implicitDf": true,
      "rowLimit": 10000
     },
     "inputWidgets": {},
     "nuid": "d4c52108-aabf-48b0-9237-0dddeb486f28",
     "showTitle": false,
     "tableResultSettingsMap": {},
     "title": ""
    }
   },
   "outputs": [],
   "source": [
    "%sql\n",
    "CREATE OR REPLACE TABLE gold.top_10_busiest_hotels_monthly\n",
    "USING DELTA\n",
    "AS\n",
    "SELECT\n",
    "  hotel_id,\n",
    "  visit_month,\n",
    "  monthly_count\n",
    "FROM monthly_visits\n",
    "QUALIFY ROW_NUMBER() OVER (PARTITION BY visit_month ORDER BY monthly_count DESC) <= 10\n",
    "ORDER BY\n",
    "  visit_month ASC,\n",
    "  monthly_count DESC;"
   ]
  },
  {
   "cell_type": "markdown",
   "metadata": {
    "application/vnd.databricks.v1+cell": {
     "cellMetadata": {
      "byteLimit": 2048000,
      "rowLimit": 10000
     },
     "inputWidgets": {},
     "nuid": "95180e51-c7ae-4d64-b29d-61d81ea4a9ed",
     "showTitle": false,
     "tableResultSettingsMap": {},
     "title": ""
    }
   },
   "source": [
    "# Get Weather Trend for Extended Stays (more than 7 days)"
   ]
  },
  {
   "cell_type": "markdown",
   "metadata": {
    "application/vnd.databricks.v1+cell": {
     "cellMetadata": {
      "byteLimit": 2048000,
      "rowLimit": 10000
     },
     "inputWidgets": {},
     "nuid": "d51271de-87b9-44d7-9161-a08617897ed4",
     "showTitle": false,
     "tableResultSettingsMap": {},
     "title": ""
    }
   },
   "source": [
    "Enable range join optimization globally for the session"
   ]
  },
  {
   "cell_type": "code",
   "execution_count": 0,
   "metadata": {
    "application/vnd.databricks.v1+cell": {
     "cellMetadata": {
      "byteLimit": 2048000,
      "implicitDf": true,
      "rowLimit": 10000
     },
     "inputWidgets": {},
     "nuid": "473a285a-c5c7-4695-b389-523efb6c4662",
     "showTitle": false,
     "tableResultSettingsMap": {},
     "title": ""
    }
   },
   "outputs": [],
   "source": [
    "%sql\n",
    "SET spark.databricks.optimizer.rangeJoin.enabled = true;"
   ]
  },
  {
   "cell_type": "markdown",
   "metadata": {
    "application/vnd.databricks.v1+cell": {
     "cellMetadata": {
      "byteLimit": 2048000,
      "rowLimit": 10000
     },
     "inputWidgets": {},
     "nuid": "2d5a5c34-2e89-4d95-9636-c519c9e60537",
     "showTitle": false,
     "tableResultSettingsMap": {},
     "title": ""
    }
   },
   "source": [
    "Get _`stays`_ -> filter stays longer than 7 days and calculate stay length"
   ]
  },
  {
   "cell_type": "code",
   "execution_count": 0,
   "metadata": {
    "application/vnd.databricks.v1+cell": {
     "cellMetadata": {
      "byteLimit": 2048000,
      "implicitDf": true,
      "rowLimit": 10000
     },
     "inputWidgets": {},
     "nuid": "4190f458-19be-455b-9956-7f76b39ede57",
     "showTitle": false,
     "tableResultSettingsMap": {},
     "title": ""
    }
   },
   "outputs": [],
   "source": [
    "%sql\n",
    "CREATE OR REPLACE TEMP VIEW stays AS\n",
    "SELECT\n",
    "    e.user_id,\n",
    "    e.hotel_id,\n",
    "    CAST(e.srch_ci AS DATE) AS checkin_date,\n",
    "    CAST(e.srch_co AS DATE) AS checkout_date,\n",
    "    DATEDIFF(CAST(e.srch_co AS DATE), CAST(e.srch_ci AS DATE)) AS stay_length\n",
    "FROM silver.expedia_processed e\n",
    "WHERE srch_ci IS NOT NULL\n",
    "  AND srch_co IS NOT NULL\n",
    "  AND DATEDIFF(CAST(e.srch_co AS DATE), CAST(e.srch_ci AS DATE)) > 7;\n",
    "CACHE TABLE stays;"
   ]
  },
  {
   "cell_type": "markdown",
   "metadata": {
    "application/vnd.databricks.v1+cell": {
     "cellMetadata": {
      "byteLimit": 2048000,
      "rowLimit": 10000
     },
     "inputWidgets": {},
     "nuid": "f6b9ad2e-0f81-4d86-9412-bbbcde503b43",
     "showTitle": false,
     "tableResultSettingsMap": {},
     "title": ""
    }
   },
   "source": [
    "Get _`weather_per_day`_ -> join stays with hotel weather data for each day of the stay (range join optimized)"
   ]
  },
  {
   "cell_type": "code",
   "execution_count": 0,
   "metadata": {
    "application/vnd.databricks.v1+cell": {
     "cellMetadata": {
      "byteLimit": 2048000,
      "implicitDf": true,
      "rowLimit": 10000
     },
     "inputWidgets": {},
     "nuid": "239525f9-cdf9-47c4-8c1b-5dd037a9ed98",
     "showTitle": false,
     "tableResultSettingsMap": {},
     "title": ""
    }
   },
   "outputs": [],
   "source": [
    "%sql\n",
    "CREATE OR REPLACE TEMP VIEW weather_per_day AS\n",
    "SELECT\n",
    "    s.user_id,\n",
    "    s.hotel_id,\n",
    "    hw.wthr_date,\n",
    "    hw.avg_tmpr_c\n",
    "FROM stays s\n",
    "JOIN silver.hotel_weather_processed hw\n",
    "  ON s.hotel_id = hw.id\n",
    " AND hw.wthr_date >= s.checkin_date\n",
    " AND hw.wthr_date <= s.checkout_date;\n",
    "CACHE TABLE weather_per_day;"
   ]
  },
  {
   "cell_type": "markdown",
   "metadata": {
    "application/vnd.databricks.v1+cell": {
     "cellMetadata": {
      "byteLimit": 2048000,
      "rowLimit": 10000
     },
     "inputWidgets": {},
     "nuid": "cbaa4292-d28a-4ee7-a7de-b2a4dc801491",
     "showTitle": false,
     "tableResultSettingsMap": {},
     "title": ""
    }
   },
   "source": [
    "Get _`weather_ranked`_ -> retrieve first and last day temperatures for each stay"
   ]
  },
  {
   "cell_type": "code",
   "execution_count": 0,
   "metadata": {
    "application/vnd.databricks.v1+cell": {
     "cellMetadata": {
      "byteLimit": 2048000,
      "implicitDf": true,
      "rowLimit": 10000
     },
     "inputWidgets": {},
     "nuid": "a638dca4-1b30-41f9-9198-6f5cd59b89a5",
     "showTitle": false,
     "tableResultSettingsMap": {},
     "title": ""
    }
   },
   "outputs": [],
   "source": [
    "%sql\n",
    "CREATE OR REPLACE TEMP VIEW weather_ranked AS\n",
    "SELECT\n",
    "    user_id,\n",
    "    hotel_id,\n",
    "    wthr_date,\n",
    "    avg_tmpr_c,\n",
    "    FIRST_VALUE(avg_tmpr_c) OVER (PARTITION BY user_id, hotel_id ORDER BY wthr_date ASC) AS first_temp,\n",
    "    LAST_VALUE(avg_tmpr_c) OVER (\n",
    "        PARTITION BY user_id, hotel_id\n",
    "        ORDER BY wthr_date ASC\n",
    "        ROWS BETWEEN UNBOUNDED PRECEDING AND UNBOUNDED FOLLOWING\n",
    "    ) AS last_temp\n",
    "FROM weather_per_day;\n",
    "CACHE TABLE weather_ranked;"
   ]
  },
  {
   "cell_type": "markdown",
   "metadata": {
    "application/vnd.databricks.v1+cell": {
     "cellMetadata": {
      "byteLimit": 2048000,
      "rowLimit": 10000
     },
     "inputWidgets": {},
     "nuid": "b6ee17dc-d8b1-4f21-9168-e8e79bf16cc9",
     "showTitle": false,
     "tableResultSettingsMap": {},
     "title": ""
    }
   },
   "source": [
    "Get _`weather_trend_final`_ -> calculate temperature trend and average temperature during stay"
   ]
  },
  {
   "cell_type": "code",
   "execution_count": 0,
   "metadata": {
    "application/vnd.databricks.v1+cell": {
     "cellMetadata": {
      "byteLimit": 2048000,
      "implicitDf": true,
      "rowLimit": 10000
     },
     "inputWidgets": {},
     "nuid": "40888062-fc96-46d5-9a43-a6257c0a200f",
     "showTitle": false,
     "tableResultSettingsMap": {},
     "title": ""
    }
   },
   "outputs": [],
   "source": [
    "%sql\n",
    "CREATE OR REPLACE TABLE gold.weather_trend_extended_stay\n",
    "USING DELTA\n",
    "AS\n",
    "SELECT\n",
    "    user_id,\n",
    "    hotel_id,\n",
    "    last_temp - first_temp AS temp_trend,\n",
    "    AVG(avg_tmpr_c) AS avg_temp_stay\n",
    "FROM weather_ranked\n",
    "GROUP BY user_id, hotel_id, first_temp, last_temp"
   ]
  },
  {
   "cell_type": "code",
   "execution_count": 0,
   "metadata": {
    "application/vnd.databricks.v1+cell": {
     "cellMetadata": {
      "byteLimit": 2048000,
      "rowLimit": 10000
     },
     "inputWidgets": {},
     "nuid": "f7ab0d73-8e32-4296-acde-1d1af21b8044",
     "showTitle": false,
     "tableResultSettingsMap": {},
     "title": ""
    }
   },
   "outputs": [],
   "source": [
    "%sql\n",
    "UNCACHE TABLE stays;\n",
    "UNCACHE TABLE weather_per_day;\n",
    "UNCACHE TABLE weather_ranked;\n",
    "UNCACHE TABLE date_series;\n",
    "UNCACHE TABLE monthly_temp_diff;"
   ]
  }
 ],
 "metadata": {
  "application/vnd.databricks.v1+notebook": {
   "computePreferences": null,
   "dashboards": [],
   "environmentMetadata": {
    "base_environment": "",
    "environment_version": "2"
   },
   "inputWidgetPreferences": null,
   "language": "python",
   "notebookMetadata": {
    "mostRecentlyExecutedCommandWithImplicitDF": {
     "commandId": 7583900041476858,
     "dataframes": [
      "_sqldf"
     ]
    },
    "pythonIndentUnit": 4
   },
   "notebookName": "04_silver_to_gold",
   "widgets": {}
  },
  "language_info": {
   "name": "python"
  }
 },
 "nbformat": 4,
 "nbformat_minor": 0
}
