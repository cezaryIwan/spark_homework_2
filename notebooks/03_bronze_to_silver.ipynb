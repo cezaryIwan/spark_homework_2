{
 "cells": [
  {
   "cell_type": "code",
   "execution_count": 0,
   "metadata": {
    "application/vnd.databricks.v1+cell": {
     "cellMetadata": {
      "byteLimit": 2048000,
      "rowLimit": 10000
     },
     "inputWidgets": {},
     "nuid": "348e5beb-da16-48a9-a34c-b3fd8d9b7efd",
     "showTitle": false,
     "tableResultSettingsMap": {},
     "title": ""
    }
   },
   "outputs": [],
   "source": [
    "%run \"../utils/configuration\""
   ]
  },
  {
   "cell_type": "code",
   "execution_count": 0,
   "metadata": {
    "application/vnd.databricks.v1+cell": {
     "cellMetadata": {
      "byteLimit": 2048000,
      "rowLimit": 10000
     },
     "inputWidgets": {},
     "nuid": "8ec4a528-2e22-457b-8ef3-e658cd84bdcd",
     "showTitle": false,
     "tableResultSettingsMap": {},
     "title": ""
    }
   },
   "outputs": [],
   "source": [
    "%run \"../utils/encryption_helper\""
   ]
  },
  {
   "cell_type": "markdown",
   "metadata": {
    "application/vnd.databricks.v1+cell": {
     "cellMetadata": {
      "byteLimit": 2048000,
      "rowLimit": 10000
     },
     "inputWidgets": {},
     "nuid": "a6c3200a-ade8-4fa5-8777-65d27767b77d",
     "showTitle": false,
     "tableResultSettingsMap": {},
     "title": ""
    }
   },
   "source": [
    "Read data"
   ]
  },
  {
   "cell_type": "code",
   "execution_count": 0,
   "metadata": {
    "application/vnd.databricks.v1+cell": {
     "cellMetadata": {
      "byteLimit": 2048000,
      "rowLimit": 10000
     },
     "inputWidgets": {},
     "nuid": "13127e04-6b2c-452f-8ac5-d0ce1d17eca8",
     "showTitle": false,
     "tableResultSettingsMap": {},
     "title": ""
    }
   },
   "outputs": [],
   "source": [
    "expedia_df = spark.read.format(\"delta\").table(\"bronze.expedia_raw\")\n",
    "hotel_weather_df = spark.read.format(\"delta\").table(\"bronze.hotel_weather_raw\")"
   ]
  },
  {
   "cell_type": "markdown",
   "metadata": {
    "application/vnd.databricks.v1+cell": {
     "cellMetadata": {
      "byteLimit": 2048000,
      "rowLimit": 10000
     },
     "inputWidgets": {},
     "nuid": "310892de-b1f2-4bdc-9c4b-fbb537b95756",
     "showTitle": false,
     "tableResultSettingsMap": {},
     "title": ""
    }
   },
   "source": [
    "Decrypt PII fields"
   ]
  },
  {
   "cell_type": "code",
   "execution_count": 0,
   "metadata": {
    "application/vnd.databricks.v1+cell": {
     "cellMetadata": {
      "byteLimit": 2048000,
      "rowLimit": 10000
     },
     "inputWidgets": {},
     "nuid": "41f01e8f-5962-40c9-83f5-a07223bb6231",
     "showTitle": false,
     "tableResultSettingsMap": {},
     "title": ""
    }
   },
   "outputs": [],
   "source": [
    "encryption_helper = EncryptionHelper(dbutils)\n",
    "try:\n",
    "    expedia_df = encryption_helper.decrypt_dataframe(expedia_df, common_pii_fields.get(\"expedia\"))\n",
    "    hotel_weather_df = encryption_helper.decrypt_dataframe(hotel_weather_df, common_pii_fields.get(\"hotel_weather\"))    \n",
    "except Exception as e:\n",
    "    print(f'Error during decryption of raw data: {e}')\n",
    "    raise"
   ]
  },
  {
   "cell_type": "markdown",
   "metadata": {
    "application/vnd.databricks.v1+cell": {
     "cellMetadata": {
      "byteLimit": 2048000,
      "rowLimit": 10000
     },
     "inputWidgets": {},
     "nuid": "59fdd572-9ef2-4f1b-ba6f-a03a2dfe3f06",
     "showTitle": false,
     "tableResultSettingsMap": {},
     "title": ""
    }
   },
   "source": [
    "Apply transformations"
   ]
  },
  {
   "cell_type": "code",
   "execution_count": 0,
   "metadata": {
    "application/vnd.databricks.v1+cell": {
     "cellMetadata": {
      "byteLimit": 2048000,
      "rowLimit": 10000
     },
     "inputWidgets": {},
     "nuid": "8215afa9-78b9-43a5-a6e3-85e8b498ca4b",
     "showTitle": false,
     "tableResultSettingsMap": {},
     "title": ""
    }
   },
   "outputs": [],
   "source": [
    "%run \"../utils/transformation_helper\""
   ]
  },
  {
   "cell_type": "code",
   "execution_count": 0,
   "metadata": {
    "application/vnd.databricks.v1+cell": {
     "cellMetadata": {
      "byteLimit": 2048000,
      "rowLimit": 10000
     },
     "inputWidgets": {},
     "nuid": "b5d675bd-fc9c-4fbe-8d55-d019e375863f",
     "showTitle": false,
     "tableResultSettingsMap": {},
     "title": ""
    }
   },
   "outputs": [],
   "source": [
    "transformation_helper = TransformationHelper()\n",
    "\n",
    "expedia_timestamp_fields = ['date_time', 'srch_ci', 'srch_co']\n",
    "hotel_weather_string_fields = ['address', 'city', 'country', 'geoHash', 'name']\n",
    "\n",
    "expedia_df = transformation_helper.cast_to_timestamp(expedia_df, expedia_timestamp_fields)\n",
    "expedia_df = transformation_helper.drop_duplicates(expedia_df, 'id')\n",
    "\n",
    "hotel_weather_df = transformation_helper.cast_to_timestamp(hotel_weather_df, ['wthr_date'])\n",
    "hotel_weather_df = transformation_helper.clean_string_types(hotel_weather_df, hotel_weather_string_fields)\n",
    "hotel_weather_df = transformation_helper.cast_to_numeric(hotel_weather_df, 'id')\n",
    "hotel_weather_df = transformation_helper.clean_null_values(hotel_weather_df, ['avg_tmpr_c', 'avg_tmpr_f'])\n",
    "hotel_weather_df = transformation_helper.drop_duplicates(hotel_weather_df, 'id')\n"
   ]
  },
  {
   "cell_type": "markdown",
   "metadata": {
    "application/vnd.databricks.v1+cell": {
     "cellMetadata": {
      "byteLimit": 2048000,
      "rowLimit": 10000
     },
     "inputWidgets": {},
     "nuid": "a4608a28-8c53-4b84-9011-70de939848f5",
     "showTitle": false,
     "tableResultSettingsMap": {},
     "title": ""
    }
   },
   "source": [
    "Encrypt PII fields"
   ]
  },
  {
   "cell_type": "code",
   "execution_count": 0,
   "metadata": {
    "application/vnd.databricks.v1+cell": {
     "cellMetadata": {
      "byteLimit": 2048000,
      "rowLimit": 10000
     },
     "inputWidgets": {},
     "nuid": "613b04f3-87ee-4ac2-9b4e-7ff50622eb04",
     "showTitle": false,
     "tableResultSettingsMap": {},
     "title": ""
    }
   },
   "outputs": [],
   "source": [
    "try:\n",
    "    expedia_df = encryption_helper.encrypt_dataframe(expedia_df, common_pii_fields['expedia'])\n",
    "    hotel_weather_df = encryption_helper.encrypt_dataframe(hotel_weather_df, common_pii_fields['hotel_weather'])\n",
    "except Exception as e:\n",
    "    print(f'Error during encryption: {e}')\n",
    "    raise"
   ]
  },
  {
   "cell_type": "markdown",
   "metadata": {
    "application/vnd.databricks.v1+cell": {
     "cellMetadata": {
      "byteLimit": 2048000,
      "rowLimit": 10000
     },
     "inputWidgets": {},
     "nuid": "71a9565f-2456-40cb-a595-5ef6383e9bcf",
     "showTitle": false,
     "tableResultSettingsMap": {},
     "title": ""
    }
   },
   "source": [
    "Write data"
   ]
  },
  {
   "cell_type": "code",
   "execution_count": 0,
   "metadata": {
    "application/vnd.databricks.v1+cell": {
     "cellMetadata": {
      "byteLimit": 2048000,
      "rowLimit": 10000
     },
     "inputWidgets": {},
     "nuid": "d9cccf46-aa3c-4764-9d4f-5f3c7fc102a3",
     "showTitle": false,
     "tableResultSettingsMap": {},
     "title": ""
    }
   },
   "outputs": [],
   "source": [
    "expedia_df.write.mode(\"overwrite\").format(\"delta\").saveAsTable(\"silver.expedia_processed \")\n",
    "hotel_weather_df.write.mode(\"overwrite\").format(\"delta\").saveAsTable(\"silver.hotel_weather_processed\")"
   ]
  }
 ],
 "metadata": {
  "application/vnd.databricks.v1+notebook": {
   "computePreferences": null,
   "dashboards": [],
   "environmentMetadata": {
    "base_environment": "",
    "environment_version": "2"
   },
   "inputWidgetPreferences": null,
   "language": "python",
   "notebookMetadata": {
    "mostRecentlyExecutedCommandWithImplicitDF": {
     "commandId": 7583900041476862,
     "dataframes": [
      "_sqldf"
     ]
    },
    "pythonIndentUnit": 4
   },
   "notebookName": "03_bronze_to_silver",
   "widgets": {}
  },
  "language_info": {
   "name": "python"
  }
 },
 "nbformat": 4,
 "nbformat_minor": 0
}
