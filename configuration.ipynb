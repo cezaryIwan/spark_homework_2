{
 "cells": [
  {
   "cell_type": "code",
   "execution_count": 0,
   "metadata": {
    "application/vnd.databricks.v1+cell": {
     "cellMetadata": {
      "byteLimit": 2048000,
      "rowLimit": 10000
     },
     "inputWidgets": {},
     "nuid": "f87a422c-2747-46cc-8e40-8b987f88d19f",
     "showTitle": false,
     "tableResultSettingsMap": {},
     "title": ""
    }
   },
   "outputs": [],
   "source": [
    "common_pii_fields = {\n",
    "    \"expedia\": [\n",
    "        'user_id',\n",
    "        'user_location_country',\n",
    "        'user_location_region',\n",
    "        'user_location_city'\n",
    "    ],\n",
    "    \"hotel_weather\": [\n",
    "        'address',\n",
    "        'city',\n",
    "        'country',\n",
    "        'latitude',\n",
    "        'longitude'\n",
    "    ]\n",
    "}"
   ]
  }
 ],
 "metadata": {
  "application/vnd.databricks.v1+notebook": {
   "computePreferences": null,
   "dashboards": [],
   "environmentMetadata": {
    "base_environment": "",
    "environment_version": "2"
   },
   "inputWidgetPreferences": null,
   "language": "python",
   "notebookMetadata": {
    "pythonIndentUnit": 4
   },
   "notebookName": "configuration",
   "widgets": {}
  },
  "language_info": {
   "name": "python"
  }
 },
 "nbformat": 4,
 "nbformat_minor": 0
}
