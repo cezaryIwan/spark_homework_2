{
 "cells": [
  {
   "cell_type": "code",
   "execution_count": 0,
   "metadata": {
    "application/vnd.databricks.v1+cell": {
     "cellMetadata": {
      "byteLimit": 2048000,
      "rowLimit": 10000
     },
     "inputWidgets": {},
     "nuid": "c46f34c7-3289-4e8e-8a12-8aba7637a608",
     "showTitle": false,
     "tableResultSettingsMap": {},
     "title": ""
    }
   },
   "outputs": [],
   "source": [
    "from pyspark.sql import DataFrame\n",
    "from pyspark.sql.functions import col, trim, nullif, to_timestamp, when, lit\n",
    "from functools import reduce\n",
    "\n",
    "\n",
    "class TransformationHelper:\n",
    "    def cast_to_timestamp(self, df: DataFrame, columns: list) -> DataFrame:\n",
    "        for column in columns:\n",
    "            df = df.withColumn(column, to_timestamp(col(column)))\n",
    "        return df\n",
    "\n",
    "    def drop_duplicates(self, df: DataFrame, id_column: str) -> DataFrame:\n",
    "        return df.drop_duplicates([id_column])\n",
    "\n",
    "    def cast_to_numeric(self, df: DataFrame, column: str) -> DataFrame:\n",
    "        return df.withColumn(column, col(column).cast('long'))\n",
    "\n",
    "    def clean_string_types(self, df: DataFrame, columns: list) -> DataFrame:\n",
    "        for column_name in columns:\n",
    "            df = df.withColumn(\n",
    "                column_name,\n",
    "                when(col(column_name) == \"\", lit(None)).otherwise(col(column_name))\n",
    "            )\n",
    "        return df\n",
    "\n",
    "    def clean_null_values(self, df: DataFrame, columns: list) -> DataFrame:\n",
    "        return df.dropna(subset=columns)\n",
    "    "
   ]
  }
 ],
 "metadata": {
  "application/vnd.databricks.v1+notebook": {
   "computePreferences": null,
   "dashboards": [],
   "environmentMetadata": {
    "base_environment": "",
    "environment_version": "2"
   },
   "inputWidgetPreferences": null,
   "language": "python",
   "notebookMetadata": {
    "pythonIndentUnit": 4
   },
   "notebookName": "transformation_helper",
   "widgets": {}
  },
  "language_info": {
   "name": "python"
  }
 },
 "nbformat": 4,
 "nbformat_minor": 0
}
